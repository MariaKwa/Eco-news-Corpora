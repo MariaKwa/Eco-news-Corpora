{
  "nbformat": 4,
  "nbformat_minor": 0,
  "metadata": {
    "colab": {
      "provenance": [],
      "authorship_tag": "ABX9TyMYnMVHYOpg3957uKVEOq2s",
      "include_colab_link": true
    },
    "kernelspec": {
      "name": "python3",
      "display_name": "Python 3"
    },
    "language_info": {
      "name": "python"
    }
  },
  "cells": [
    {
      "cell_type": "markdown",
      "metadata": {
        "id": "view-in-github",
        "colab_type": "text"
      },
      "source": [
        "<a href=\"https://colab.research.google.com/github/MariaKwa/Eco-news-Corpora/blob/main/%D0%9A%D0%BE%D1%80%D0%BF%D1%83%D1%81_%D1%8D%D0%BA%D0%BE_%D0%BD%D0%BE%D0%B2%D0%BE%D1%81%D1%82%D0%B5%D0%B9.ipynb\" target=\"_parent\"><img src=\"https://colab.research.google.com/assets/colab-badge.svg\" alt=\"Open In Colab\"/></a>"
      ]
    },
    {
      "cell_type": "markdown",
      "source": [
        "**Источник:** [ВЕДОМОСТИ | Экология](https://www.vedomosti.ru/ecology?utm_source=vedomosti.ru%2Fgorod&utm_medium=main&utm_campaign=desktop_main)\n",
        "\n",
        "#План\n",
        "* достать все заголовки новостей c главной страницы\n",
        "* добавить текст каждой новости\n",
        "* сохранить в датафрейм с колонками \"ссылка\", \"дата\", \"заголовок\", \"текст\" (+ \"автор\"?)\n",
        "* сохранить датафрейм в файл\n",
        "* сдать код и получившийся файл на проверку (репозиторий на GitHub)"
      ],
      "metadata": {
        "id": "uqxsr8xr1m_u"
      }
    },
    {
      "cell_type": "markdown",
      "source": [
        "## Главная страница"
      ],
      "metadata": {
        "id": "svzXfaWx5LAX"
      }
    },
    {
      "cell_type": "code",
      "execution_count": 1,
      "metadata": {
        "id": "YB5xmaIiyTld"
      },
      "outputs": [],
      "source": [
        "import requests as rq \n",
        "from bs4 import BeautifulSoup"
      ]
    },
    {
      "cell_type": "code",
      "source": [
        "url = 'https://www.vedomosti.ru/ecology?utm_source=vedomosti.ru%2Fgorod&utm_medium=main&utm_campaign=desktop_main'\n",
        "page = rq.get(url)\n",
        "print(page.status_code)\n",
        "soup = BeautifulSoup(page.text, features = \"html.parser\")"
      ],
      "metadata": {
        "colab": {
          "base_uri": "https://localhost:8080/"
        },
        "id": "FTGcNGLz4EeU",
        "outputId": "38cc4f58-1e7c-463f-e911-8fabcc670cb9"
      },
      "execution_count": 2,
      "outputs": [
        {
          "output_type": "stream",
          "name": "stdout",
          "text": [
            "200\n"
          ]
        }
      ]
    },
    {
      "cell_type": "code",
      "source": [
        "print(soup.prettify())"
      ],
      "metadata": {
        "id": "54Rji4tO19_S"
      },
      "execution_count": null,
      "outputs": []
    },
    {
      "cell_type": "code",
      "source": [
        "urls = []\n",
        "\n",
        "for link in soup.find_all('a'):\n",
        "    urls.append(link.get('href'))\n",
        "\n",
        "urls"
      ],
      "metadata": {
        "id": "TTArMuedeBaC",
        "colab": {
          "base_uri": "https://localhost:8080/"
        },
        "outputId": "594ed60b-a727-4e1d-a91a-e75920ce0cd9"
      },
      "execution_count": 4,
      "outputs": [
        {
          "output_type": "execute_result",
          "data": {
            "text/plain": [
              "['https://www.vedomosti.ru/?utm_source=vedomosti.ru/ecology&utm_medium=main&utm_campaign=desktop_main',\n",
              " 'https://vedomostisport.ru/?utm_source=vedomosti.ru/ecology&utm_medium=main&utm_campaign=desktop_main',\n",
              " 'https://vedomosti-spb.ru/?utm_source=vedomosti.ru/ecology&utm_medium=main&utm_campaign=desktop_main',\n",
              " 'https://www.vedomosti.ru/gorod?utm_source=vedomosti.ru/ecology&utm_medium=main&utm_campaign=desktop_main',\n",
              " 'https://www.vedomosti.ru/partner?utm_source=vedomosti.ru/ecology&utm_medium=main&utm_campaign=desktop_main',\n",
              " 'https://regatta.vedomosti.ru/?utm_source=vedomosti.ru/ecology&utm_medium=main&utm_campaign=desktop_main',\n",
              " 'https://kp.vedomosti.ru/?utm_source=vedomosti.ru/ecology&utm_medium=main&utm_campaign=desktop_main',\n",
              " 'https://www.vedomosti.ru/companies?utm_source=main&utm_campaign=desktop_main',\n",
              " 'https://events.vedomosti.ru/?utm_source=vedomosti.ru/ecology&utm_medium=main&utm_campaign=desktop_main',\n",
              " 'https://re.vedomosti.ru/?utm_source=vedomosti.ru/ecology&utm_medium=main&utm_campaign=desktop_main',\n",
              " 'https://www.vedomosti.ru/forum?utm_source=vedomosti.ru/ecology&utm_medium=main&utm_campaign=desktop_main',\n",
              " '/',\n",
              " '/ecology/release/2022/12/12',\n",
              " '/https://cdn5.vedomosti.ru/application/2022/9m/mwirk/original-tok.pdf',\n",
              " '/ecology/release/2022/12/12',\n",
              " '/ecology/release/2022/12/08',\n",
              " '/https://cdn5.vedomosti.ru/application/2022/9i/rwoi4/original-1062.pdf',\n",
              " '/ecology/release/2022/12/08',\n",
              " '/ecology/release/2022/11/10',\n",
              " '/https://cdn5.vedomosti.ru/application/2022/8q/q0cm6/original-xpi.pdf',\n",
              " '/ecology/release/2022/11/10',\n",
              " '/ecology/release/2022/09/08',\n",
              " '/https://cdn5.vedomosti.ru/application/2022/6z/uclw3/original-13c0.pdf',\n",
              " '/ecology/release/2022/09/08',\n",
              " 'https://www.vedomosti.ru/?utm_source=vedomosti.ru/ecology&utm_medium=menu&utm_campaign=footer',\n",
              " 'https://vedomostisport.ru/?utm_source=vedomosti.ru/ecology&utm_medium=menu&utm_campaign=footer',\n",
              " 'https://vedomosti-spb.ru/?utm_source=vedomosti.ru/ecology&utm_medium=menu&utm_campaign=footer',\n",
              " 'https://vedomosti.ru/gorod?utm_source=vedomosti.ru/ecology&utm_medium=menu&utm_campaign=footer',\n",
              " 'https://vedomosti.ru/partner?utm_source=vedomosti.ru/ecology&utm_medium=menu&utm_campaign=footer',\n",
              " 'https://regatta.vedomosti.ru/?utm_source=vedomosti.ru/ecology&utm_medium=menu&utm_campaign=footer',\n",
              " 'https://kp.vedomosti.ru/?utm_source=vedomosti.ru/ecology&utm_medium=menu&utm_campaign=footer',\n",
              " 'https://events.vedomosti.ru/?utm_source=vedomosti.ru/ecology&utm_medium=footer&utm_campaign=footer',\n",
              " 'https://re.vedomosti.ru/?utm_source=vedomosti.ru/ecology&utm_medium=menu&utm_campaign=footer',\n",
              " 'https://www.vedomosti.ru/forum?utm_source=vedomosti.ru/ecology&utm_medium=menu&utm_campaign=footer',\n",
              " 'https://vedomosti.ru/companies?utm_source=vedomosti.ru/ecology&utm_medium=menu&utm_campaign=footer',\n",
              " 'https://goo.gl/maps/6iRTB366prJwuK26A',\n",
              " 'https://yandex.ru/maps/-/CGBdYMJo',\n",
              " 'tel:+74959563458',\n",
              " 'tel:+74959560716',\n",
              " 'mailto:info@vedomosti.ru',\n",
              " 'https://twitter.com/vedomosti',\n",
              " 'https://vk.com/vedomosti',\n",
              " 'https://t.me/vedomosti',\n",
              " 'https://flipboard.com/@vedomosti',\n",
              " 'https://redirect.appmetrica.yandex.com/serve/530771295562927660',\n",
              " 'https://redirect.appmetrica.yandex.com/serve/314598512224395265',\n",
              " '/info/reprint_rules',\n",
              " '/info/privacy',\n",
              " '/info/reprint_rules',\n",
              " '/info/privacy']"
            ]
          },
          "metadata": {},
          "execution_count": 4
        }
      ]
    },
    {
      "cell_type": "code",
      "source": [
        "issues = []\n",
        "\n",
        "for link in soup.find_all('a'):\n",
        "  if 'ecology/release' in link.get('href') and link.get('href') not in issues:\n",
        "    issues.append(link.get('href')) \n",
        "\n",
        "issues"
      ],
      "metadata": {
        "colab": {
          "base_uri": "https://localhost:8080/"
        },
        "id": "g_5MZLFTD3XE",
        "outputId": "efbbdd45-0df5-4774-cc8d-33b14e3f1ac5"
      },
      "execution_count": 5,
      "outputs": [
        {
          "output_type": "execute_result",
          "data": {
            "text/plain": [
              "['/ecology/release/2022/12/12',\n",
              " '/ecology/release/2022/12/08',\n",
              " '/ecology/release/2022/11/10',\n",
              " '/ecology/release/2022/09/08']"
            ]
          },
          "metadata": {},
          "execution_count": 5
        }
      ]
    },
    {
      "cell_type": "markdown",
      "source": [
        "## Страницы выпусков"
      ],
      "metadata": {
        "id": "15pYCdLJXupy"
      }
    },
    {
      "cell_type": "code",
      "source": [
        "full_issues = []\n",
        "\n",
        "for item in issues:\n",
        "  full_issues.append('https://www.vedomosti.ru' + item)\n",
        "\n",
        "full_issues"
      ],
      "metadata": {
        "colab": {
          "base_uri": "https://localhost:8080/"
        },
        "id": "RdHNp41vht24",
        "outputId": "126ad555-8de2-4046-9109-d5e935517f70"
      },
      "execution_count": 6,
      "outputs": [
        {
          "output_type": "execute_result",
          "data": {
            "text/plain": [
              "['https://www.vedomosti.ru/ecology/release/2022/12/12',\n",
              " 'https://www.vedomosti.ru/ecology/release/2022/12/08',\n",
              " 'https://www.vedomosti.ru/ecology/release/2022/11/10',\n",
              " 'https://www.vedomosti.ru/ecology/release/2022/09/08']"
            ]
          },
          "metadata": {},
          "execution_count": 6
        }
      ]
    },
    {
      "cell_type": "code",
      "source": [
        "for address in full_issues:\n",
        "    response_i = rq.get(address)\n",
        "    print(address, '=', response_i.status_code)"
      ],
      "metadata": {
        "colab": {
          "base_uri": "https://localhost:8080/"
        },
        "id": "i7J3r3UFZF6D",
        "outputId": "fbea97d9-2670-436a-bd2b-0dfe3fe18e86"
      },
      "execution_count": 7,
      "outputs": [
        {
          "output_type": "stream",
          "name": "stdout",
          "text": [
            "https://www.vedomosti.ru/ecology/release/2022/12/12 = 200\n",
            "https://www.vedomosti.ru/ecology/release/2022/12/08 = 200\n",
            "https://www.vedomosti.ru/ecology/release/2022/11/10 = 200\n",
            "https://www.vedomosti.ru/ecology/release/2022/09/08 = 200\n"
          ]
        }
      ]
    },
    {
      "cell_type": "code",
      "source": [
        "# Похоже, что показывает результат только для последнего выпуска из списка\n",
        "urls_art = [] \n",
        "\n",
        "for address in full_issues:\n",
        "  response_i = rq.get(address) # добавлено, но не помогает\n",
        "  try:\n",
        "    soup_i = BeautifulSoup(response_i.text, features = \"html.parser\")\n",
        "    for link in soup_i.find_all('a'):\n",
        "      urls_art.append(link.get('href'))\n",
        "  except:\n",
        "    print('С выпуском', address, 'не получилось')\n",
        "\n",
        "urls_art"
      ],
      "metadata": {
        "id": "QokzUfONr4IR",
        "colab": {
          "base_uri": "https://localhost:8080/"
        },
        "outputId": "3b6fae86-7d8f-4179-efce-2d205361f6a9"
      },
      "execution_count": 8,
      "outputs": [
        {
          "output_type": "execute_result",
          "data": {
            "text/plain": [
              "['https://www.vedomosti.ru/?utm_source=vedomosti.ru/ecology&utm_medium=main&utm_campaign=desktop_main',\n",
              " 'https://vedomostisport.ru/?utm_source=vedomosti.ru/ecology&utm_medium=main&utm_campaign=desktop_main',\n",
              " 'https://vedomosti-spb.ru/?utm_source=vedomosti.ru/ecology&utm_medium=main&utm_campaign=desktop_main',\n",
              " 'https://www.vedomosti.ru/gorod?utm_source=vedomosti.ru/ecology&utm_medium=main&utm_campaign=desktop_main',\n",
              " 'https://www.vedomosti.ru/partner?utm_source=vedomosti.ru/ecology&utm_medium=main&utm_campaign=desktop_main',\n",
              " 'https://regatta.vedomosti.ru/?utm_source=vedomosti.ru/ecology&utm_medium=main&utm_campaign=desktop_main',\n",
              " 'https://kp.vedomosti.ru/?utm_source=vedomosti.ru/ecology&utm_medium=main&utm_campaign=desktop_main',\n",
              " 'https://www.vedomosti.ru/companies?utm_source=main&utm_campaign=desktop_main',\n",
              " 'https://events.vedomosti.ru/?utm_source=vedomosti.ru/ecology&utm_medium=main&utm_campaign=desktop_main',\n",
              " 'https://re.vedomosti.ru/?utm_source=vedomosti.ru/ecology&utm_medium=main&utm_campaign=desktop_main',\n",
              " 'https://www.vedomosti.ru/forum?utm_source=vedomosti.ru/ecology&utm_medium=main&utm_campaign=desktop_main',\n",
              " '/',\n",
              " None,\n",
              " None,\n",
              " None,\n",
              " None,\n",
              " '/ecology/release/2022/12/https://cdn5.vedomosti.ru/application/2022/9m/mwirk/original-tok.pdf',\n",
              " None,\n",
              " None,\n",
              " '/ecology/climate/articles/2022/12/12/954783-metan-nedolgovechnii-no-kovarnii',\n",
              " None,\n",
              " None,\n",
              " None,\n",
              " None,\n",
              " '/ecology/climate/columns/2022/12/12/954773-klimaticheskie-izmeneniya-i-ustoichivoe-razvitie',\n",
              " None,\n",
              " None,\n",
              " '/ecology/science_and_technology/articles/2022/12/12/954778-dobivayuschei-otrasli-prognoziruyut-diversifikatsiyu',\n",
              " None,\n",
              " None,\n",
              " '',\n",
              " None,\n",
              " None,\n",
              " '',\n",
              " None,\n",
              " None,\n",
              " '',\n",
              " None,\n",
              " None,\n",
              " '',\n",
              " None,\n",
              " None,\n",
              " '',\n",
              " None,\n",
              " None,\n",
              " '',\n",
              " 'https://www.vedomosti.ru/?utm_source=vedomosti.ru/ecology&utm_medium=menu&utm_campaign=footer',\n",
              " 'https://vedomostisport.ru/?utm_source=vedomosti.ru/ecology&utm_medium=menu&utm_campaign=footer',\n",
              " 'https://vedomosti-spb.ru/?utm_source=vedomosti.ru/ecology&utm_medium=menu&utm_campaign=footer',\n",
              " 'https://vedomosti.ru/gorod?utm_source=vedomosti.ru/ecology&utm_medium=menu&utm_campaign=footer',\n",
              " 'https://vedomosti.ru/partner?utm_source=vedomosti.ru/ecology&utm_medium=menu&utm_campaign=footer',\n",
              " 'https://regatta.vedomosti.ru/?utm_source=vedomosti.ru/ecology&utm_medium=menu&utm_campaign=footer',\n",
              " 'https://kp.vedomosti.ru/?utm_source=vedomosti.ru/ecology&utm_medium=menu&utm_campaign=footer',\n",
              " 'https://events.vedomosti.ru/?utm_source=vedomosti.ru/ecology&utm_medium=footer&utm_campaign=footer',\n",
              " 'https://re.vedomosti.ru/?utm_source=vedomosti.ru/ecology&utm_medium=menu&utm_campaign=footer',\n",
              " 'https://www.vedomosti.ru/forum?utm_source=vedomosti.ru/ecology&utm_medium=menu&utm_campaign=footer',\n",
              " 'https://vedomosti.ru/companies?utm_source=vedomosti.ru/ecology&utm_medium=menu&utm_campaign=footer',\n",
              " 'https://goo.gl/maps/6iRTB366prJwuK26A',\n",
              " 'https://yandex.ru/maps/-/CGBdYMJo',\n",
              " 'tel:+74959563458',\n",
              " 'tel:+74959560716',\n",
              " 'mailto:info@vedomosti.ru',\n",
              " 'https://twitter.com/vedomosti',\n",
              " 'https://vk.com/vedomosti',\n",
              " 'https://t.me/vedomosti',\n",
              " 'https://flipboard.com/@vedomosti',\n",
              " 'https://redirect.appmetrica.yandex.com/serve/530771295562927660',\n",
              " 'https://redirect.appmetrica.yandex.com/serve/314598512224395265',\n",
              " '/info/reprint_rules',\n",
              " '/info/privacy',\n",
              " '/info/reprint_rules',\n",
              " '/info/privacy',\n",
              " 'https://www.vedomosti.ru/?utm_source=vedomosti.ru/ecology&utm_medium=main&utm_campaign=desktop_main',\n",
              " 'https://vedomostisport.ru/?utm_source=vedomosti.ru/ecology&utm_medium=main&utm_campaign=desktop_main',\n",
              " 'https://vedomosti-spb.ru/?utm_source=vedomosti.ru/ecology&utm_medium=main&utm_campaign=desktop_main',\n",
              " 'https://www.vedomosti.ru/gorod?utm_source=vedomosti.ru/ecology&utm_medium=main&utm_campaign=desktop_main',\n",
              " 'https://www.vedomosti.ru/partner?utm_source=vedomosti.ru/ecology&utm_medium=main&utm_campaign=desktop_main',\n",
              " 'https://regatta.vedomosti.ru/?utm_source=vedomosti.ru/ecology&utm_medium=main&utm_campaign=desktop_main',\n",
              " 'https://kp.vedomosti.ru/?utm_source=vedomosti.ru/ecology&utm_medium=main&utm_campaign=desktop_main',\n",
              " 'https://www.vedomosti.ru/companies?utm_source=main&utm_campaign=desktop_main',\n",
              " 'https://events.vedomosti.ru/?utm_source=vedomosti.ru/ecology&utm_medium=main&utm_campaign=desktop_main',\n",
              " 'https://re.vedomosti.ru/?utm_source=vedomosti.ru/ecology&utm_medium=main&utm_campaign=desktop_main',\n",
              " 'https://www.vedomosti.ru/forum?utm_source=vedomosti.ru/ecology&utm_medium=main&utm_campaign=desktop_main',\n",
              " '/',\n",
              " None,\n",
              " None,\n",
              " None,\n",
              " None,\n",
              " '/ecology/release/2022/12/https://cdn5.vedomosti.ru/application/2022/9i/rwoi4/original-1062.pdf',\n",
              " None,\n",
              " None,\n",
              " '/ecology/climate/articles/2022/12/08/954315-energetika-nulevim-sledom',\n",
              " None,\n",
              " None,\n",
              " None,\n",
              " None,\n",
              " '/ecology/science_and_technology/articles/2022/12/08/954309-rossiya-stanet-samim-moschnim-ledokolom-v-mire',\n",
              " None,\n",
              " None,\n",
              " '/ecology/science_and_technology/articles/2022/12/08/954298-alternativa-bolshomu-atomu',\n",
              " None,\n",
              " None,\n",
              " '/ecology/protection_nature/articles/2022/12/08/954286-atomnaya-ekologiya',\n",
              " None,\n",
              " None,\n",
              " '',\n",
              " None,\n",
              " None,\n",
              " '',\n",
              " None,\n",
              " None,\n",
              " '',\n",
              " None,\n",
              " None,\n",
              " '',\n",
              " None,\n",
              " None,\n",
              " '',\n",
              " 'https://www.vedomosti.ru/?utm_source=vedomosti.ru/ecology&utm_medium=menu&utm_campaign=footer',\n",
              " 'https://vedomostisport.ru/?utm_source=vedomosti.ru/ecology&utm_medium=menu&utm_campaign=footer',\n",
              " 'https://vedomosti-spb.ru/?utm_source=vedomosti.ru/ecology&utm_medium=menu&utm_campaign=footer',\n",
              " 'https://vedomosti.ru/gorod?utm_source=vedomosti.ru/ecology&utm_medium=menu&utm_campaign=footer',\n",
              " 'https://vedomosti.ru/partner?utm_source=vedomosti.ru/ecology&utm_medium=menu&utm_campaign=footer',\n",
              " 'https://regatta.vedomosti.ru/?utm_source=vedomosti.ru/ecology&utm_medium=menu&utm_campaign=footer',\n",
              " 'https://kp.vedomosti.ru/?utm_source=vedomosti.ru/ecology&utm_medium=menu&utm_campaign=footer',\n",
              " 'https://events.vedomosti.ru/?utm_source=vedomosti.ru/ecology&utm_medium=footer&utm_campaign=footer',\n",
              " 'https://re.vedomosti.ru/?utm_source=vedomosti.ru/ecology&utm_medium=menu&utm_campaign=footer',\n",
              " 'https://www.vedomosti.ru/forum?utm_source=vedomosti.ru/ecology&utm_medium=menu&utm_campaign=footer',\n",
              " 'https://vedomosti.ru/companies?utm_source=vedomosti.ru/ecology&utm_medium=menu&utm_campaign=footer',\n",
              " 'https://goo.gl/maps/6iRTB366prJwuK26A',\n",
              " 'https://yandex.ru/maps/-/CGBdYMJo',\n",
              " 'tel:+74959563458',\n",
              " 'tel:+74959560716',\n",
              " 'mailto:info@vedomosti.ru',\n",
              " 'https://twitter.com/vedomosti',\n",
              " 'https://vk.com/vedomosti',\n",
              " 'https://t.me/vedomosti',\n",
              " 'https://flipboard.com/@vedomosti',\n",
              " 'https://redirect.appmetrica.yandex.com/serve/530771295562927660',\n",
              " 'https://redirect.appmetrica.yandex.com/serve/314598512224395265',\n",
              " '/info/reprint_rules',\n",
              " '/info/privacy',\n",
              " '/info/reprint_rules',\n",
              " '/info/privacy',\n",
              " 'https://www.vedomosti.ru/?utm_source=vedomosti.ru/ecology&utm_medium=main&utm_campaign=desktop_main',\n",
              " 'https://vedomostisport.ru/?utm_source=vedomosti.ru/ecology&utm_medium=main&utm_campaign=desktop_main',\n",
              " 'https://vedomosti-spb.ru/?utm_source=vedomosti.ru/ecology&utm_medium=main&utm_campaign=desktop_main',\n",
              " 'https://www.vedomosti.ru/gorod?utm_source=vedomosti.ru/ecology&utm_medium=main&utm_campaign=desktop_main',\n",
              " 'https://www.vedomosti.ru/partner?utm_source=vedomosti.ru/ecology&utm_medium=main&utm_campaign=desktop_main',\n",
              " 'https://regatta.vedomosti.ru/?utm_source=vedomosti.ru/ecology&utm_medium=main&utm_campaign=desktop_main',\n",
              " 'https://kp.vedomosti.ru/?utm_source=vedomosti.ru/ecology&utm_medium=main&utm_campaign=desktop_main',\n",
              " 'https://www.vedomosti.ru/companies?utm_source=main&utm_campaign=desktop_main',\n",
              " 'https://events.vedomosti.ru/?utm_source=vedomosti.ru/ecology&utm_medium=main&utm_campaign=desktop_main',\n",
              " 'https://re.vedomosti.ru/?utm_source=vedomosti.ru/ecology&utm_medium=main&utm_campaign=desktop_main',\n",
              " 'https://www.vedomosti.ru/forum?utm_source=vedomosti.ru/ecology&utm_medium=main&utm_campaign=desktop_main',\n",
              " '/',\n",
              " None,\n",
              " None,\n",
              " None,\n",
              " None,\n",
              " '/ecology/release/2022/11/https://cdn5.vedomosti.ru/application/2022/8q/q0cm6/original-xpi.pdf',\n",
              " None,\n",
              " None,\n",
              " '/ecology/climate/articles/2022/11/10/949670-rossiya-tepleet-vdvoe-bistree-chem-ostalnoi-mir',\n",
              " None,\n",
              " None,\n",
              " None,\n",
              " None,\n",
              " '/ecology/regulation/articles/2022/11/10/949661-zapretyat-li-sobirat-kedrovie-orehi',\n",
              " None,\n",
              " None,\n",
              " '/ecology/protection_nature/articles/2022/11/10/949663-v-rossii-otsutstvuet-spetsializirovannaya-infrastruktura-sbora-tekstilnih-othodov',\n",
              " None,\n",
              " None,\n",
              " '/ecology/protection_nature/columns/2022/11/10/949648-rubka-baikalskogo-lesa-privedet-k-nepopravimim-posledstviyam-dlya-ekosistemi-ozera',\n",
              " None,\n",
              " None,\n",
              " '',\n",
              " None,\n",
              " None,\n",
              " '',\n",
              " None,\n",
              " None,\n",
              " '',\n",
              " None,\n",
              " None,\n",
              " '',\n",
              " None,\n",
              " None,\n",
              " '',\n",
              " 'https://www.vedomosti.ru/?utm_source=vedomosti.ru/ecology&utm_medium=menu&utm_campaign=footer',\n",
              " 'https://vedomostisport.ru/?utm_source=vedomosti.ru/ecology&utm_medium=menu&utm_campaign=footer',\n",
              " 'https://vedomosti-spb.ru/?utm_source=vedomosti.ru/ecology&utm_medium=menu&utm_campaign=footer',\n",
              " 'https://vedomosti.ru/gorod?utm_source=vedomosti.ru/ecology&utm_medium=menu&utm_campaign=footer',\n",
              " 'https://vedomosti.ru/partner?utm_source=vedomosti.ru/ecology&utm_medium=menu&utm_campaign=footer',\n",
              " 'https://regatta.vedomosti.ru/?utm_source=vedomosti.ru/ecology&utm_medium=menu&utm_campaign=footer',\n",
              " 'https://kp.vedomosti.ru/?utm_source=vedomosti.ru/ecology&utm_medium=menu&utm_campaign=footer',\n",
              " 'https://events.vedomosti.ru/?utm_source=vedomosti.ru/ecology&utm_medium=footer&utm_campaign=footer',\n",
              " 'https://re.vedomosti.ru/?utm_source=vedomosti.ru/ecology&utm_medium=menu&utm_campaign=footer',\n",
              " 'https://www.vedomosti.ru/forum?utm_source=vedomosti.ru/ecology&utm_medium=menu&utm_campaign=footer',\n",
              " 'https://vedomosti.ru/companies?utm_source=vedomosti.ru/ecology&utm_medium=menu&utm_campaign=footer',\n",
              " 'https://goo.gl/maps/6iRTB366prJwuK26A',\n",
              " 'https://yandex.ru/maps/-/CGBdYMJo',\n",
              " 'tel:+74959563458',\n",
              " 'tel:+74959560716',\n",
              " 'mailto:info@vedomosti.ru',\n",
              " 'https://twitter.com/vedomosti',\n",
              " 'https://vk.com/vedomosti',\n",
              " 'https://t.me/vedomosti',\n",
              " 'https://flipboard.com/@vedomosti',\n",
              " 'https://redirect.appmetrica.yandex.com/serve/530771295562927660',\n",
              " 'https://redirect.appmetrica.yandex.com/serve/314598512224395265',\n",
              " '/info/reprint_rules',\n",
              " '/info/privacy',\n",
              " '/info/reprint_rules',\n",
              " '/info/privacy',\n",
              " 'https://www.vedomosti.ru/?utm_source=vedomosti.ru/ecology&utm_medium=main&utm_campaign=desktop_main',\n",
              " 'https://vedomostisport.ru/?utm_source=vedomosti.ru/ecology&utm_medium=main&utm_campaign=desktop_main',\n",
              " 'https://vedomosti-spb.ru/?utm_source=vedomosti.ru/ecology&utm_medium=main&utm_campaign=desktop_main',\n",
              " 'https://www.vedomosti.ru/gorod?utm_source=vedomosti.ru/ecology&utm_medium=main&utm_campaign=desktop_main',\n",
              " 'https://www.vedomosti.ru/partner?utm_source=vedomosti.ru/ecology&utm_medium=main&utm_campaign=desktop_main',\n",
              " 'https://regatta.vedomosti.ru/?utm_source=vedomosti.ru/ecology&utm_medium=main&utm_campaign=desktop_main',\n",
              " 'https://kp.vedomosti.ru/?utm_source=vedomosti.ru/ecology&utm_medium=main&utm_campaign=desktop_main',\n",
              " 'https://www.vedomosti.ru/companies?utm_source=main&utm_campaign=desktop_main',\n",
              " 'https://events.vedomosti.ru/?utm_source=vedomosti.ru/ecology&utm_medium=main&utm_campaign=desktop_main',\n",
              " 'https://re.vedomosti.ru/?utm_source=vedomosti.ru/ecology&utm_medium=main&utm_campaign=desktop_main',\n",
              " 'https://www.vedomosti.ru/forum?utm_source=vedomosti.ru/ecology&utm_medium=main&utm_campaign=desktop_main',\n",
              " '/',\n",
              " None,\n",
              " None,\n",
              " None,\n",
              " None,\n",
              " '/ecology/release/2022/09/https://cdn5.vedomosti.ru/application/2022/6z/uclw3/original-13c0.pdf',\n",
              " None,\n",
              " None,\n",
              " '/ecology/protection_nature/articles/2022/09/08/939891-vesnoi-i-letom-2022-g-lesa-v-rossii-goreli-menshe-chem-v-srednem-v-xxi-veke',\n",
              " None,\n",
              " None,\n",
              " None,\n",
              " None,\n",
              " '/ecology/protection_nature/articles/2022/09/08/939876-monitoring-baikala-eto-ne-akademicheskaya-nauka-a-uchast-santehnika',\n",
              " None,\n",
              " None,\n",
              " '/ecology/regulation/articles/2022/09/08/939853-medothodi-klassa-a-mogut-priravnyat-k-ofisnomu-i-bitovomu-musoru',\n",
              " None,\n",
              " None,\n",
              " '/ecology/regulation/articles/2022/09/07/939765-blagotvoritelnie-produkti-osvobodyat-ot-nds',\n",
              " None,\n",
              " None,\n",
              " '',\n",
              " None,\n",
              " None,\n",
              " '',\n",
              " None,\n",
              " None,\n",
              " '',\n",
              " None,\n",
              " None,\n",
              " '',\n",
              " None,\n",
              " None,\n",
              " '',\n",
              " 'https://www.vedomosti.ru/?utm_source=vedomosti.ru/ecology&utm_medium=menu&utm_campaign=footer',\n",
              " 'https://vedomostisport.ru/?utm_source=vedomosti.ru/ecology&utm_medium=menu&utm_campaign=footer',\n",
              " 'https://vedomosti-spb.ru/?utm_source=vedomosti.ru/ecology&utm_medium=menu&utm_campaign=footer',\n",
              " 'https://vedomosti.ru/gorod?utm_source=vedomosti.ru/ecology&utm_medium=menu&utm_campaign=footer',\n",
              " 'https://vedomosti.ru/partner?utm_source=vedomosti.ru/ecology&utm_medium=menu&utm_campaign=footer',\n",
              " 'https://regatta.vedomosti.ru/?utm_source=vedomosti.ru/ecology&utm_medium=menu&utm_campaign=footer',\n",
              " 'https://kp.vedomosti.ru/?utm_source=vedomosti.ru/ecology&utm_medium=menu&utm_campaign=footer',\n",
              " 'https://events.vedomosti.ru/?utm_source=vedomosti.ru/ecology&utm_medium=footer&utm_campaign=footer',\n",
              " 'https://re.vedomosti.ru/?utm_source=vedomosti.ru/ecology&utm_medium=menu&utm_campaign=footer',\n",
              " 'https://www.vedomosti.ru/forum?utm_source=vedomosti.ru/ecology&utm_medium=menu&utm_campaign=footer',\n",
              " 'https://vedomosti.ru/companies?utm_source=vedomosti.ru/ecology&utm_medium=menu&utm_campaign=footer',\n",
              " 'https://goo.gl/maps/6iRTB366prJwuK26A',\n",
              " 'https://yandex.ru/maps/-/CGBdYMJo',\n",
              " 'tel:+74959563458',\n",
              " 'tel:+74959560716',\n",
              " 'mailto:info@vedomosti.ru',\n",
              " 'https://twitter.com/vedomosti',\n",
              " 'https://vk.com/vedomosti',\n",
              " 'https://t.me/vedomosti',\n",
              " 'https://flipboard.com/@vedomosti',\n",
              " 'https://redirect.appmetrica.yandex.com/serve/530771295562927660',\n",
              " 'https://redirect.appmetrica.yandex.com/serve/314598512224395265',\n",
              " '/info/reprint_rules',\n",
              " '/info/privacy',\n",
              " '/info/reprint_rules',\n",
              " '/info/privacy']"
            ]
          },
          "metadata": {},
          "execution_count": 8
        }
      ]
    },
    {
      "cell_type": "code",
      "source": [
        "print(soup_i.prettify())"
      ],
      "metadata": {
        "id": "DkyDJc-ojwzl"
      },
      "execution_count": null,
      "outputs": []
    },
    {
      "cell_type": "code",
      "source": [
        "articles = []\n",
        "\n",
        "for link in soup_i.find_all('a'):\n",
        "  try:\n",
        "    if 'articles' in link.get('href') or 'columns' in link.get('href') and link.get('href') not in articles:\n",
        "      articles.append(link.get('href'))  \n",
        "  except: # чтобы None не выдавал ошибку\n",
        "    pass\n",
        "\n",
        "articles"
      ],
      "metadata": {
        "colab": {
          "base_uri": "https://localhost:8080/"
        },
        "id": "ai7R9gjNdh8r",
        "outputId": "df50a5da-8f7b-46ee-a7d3-9b36b3ca2896"
      },
      "execution_count": 10,
      "outputs": [
        {
          "output_type": "execute_result",
          "data": {
            "text/plain": [
              "['/ecology/protection_nature/articles/2022/09/08/939891-vesnoi-i-letom-2022-g-lesa-v-rossii-goreli-menshe-chem-v-srednem-v-xxi-veke',\n",
              " '/ecology/protection_nature/articles/2022/09/08/939876-monitoring-baikala-eto-ne-akademicheskaya-nauka-a-uchast-santehnika',\n",
              " '/ecology/regulation/articles/2022/09/08/939853-medothodi-klassa-a-mogut-priravnyat-k-ofisnomu-i-bitovomu-musoru',\n",
              " '/ecology/regulation/articles/2022/09/07/939765-blagotvoritelnie-produkti-osvobodyat-ot-nds']"
            ]
          },
          "metadata": {},
          "execution_count": 10
        }
      ]
    },
    {
      "cell_type": "code",
      "source": [
        "full_articles = []\n",
        "\n",
        "for item in articles:\n",
        "  full_articles.append('https://www.vedomosti.ru' + item)\n",
        "\n",
        "full_articles"
      ],
      "metadata": {
        "colab": {
          "base_uri": "https://localhost:8080/"
        },
        "id": "liZUW048rrS0",
        "outputId": "26027003-1b12-4d33-894d-5c261abf0bda"
      },
      "execution_count": 11,
      "outputs": [
        {
          "output_type": "execute_result",
          "data": {
            "text/plain": [
              "['https://www.vedomosti.ru/ecology/protection_nature/articles/2022/09/08/939891-vesnoi-i-letom-2022-g-lesa-v-rossii-goreli-menshe-chem-v-srednem-v-xxi-veke',\n",
              " 'https://www.vedomosti.ru/ecology/protection_nature/articles/2022/09/08/939876-monitoring-baikala-eto-ne-akademicheskaya-nauka-a-uchast-santehnika',\n",
              " 'https://www.vedomosti.ru/ecology/regulation/articles/2022/09/08/939853-medothodi-klassa-a-mogut-priravnyat-k-ofisnomu-i-bitovomu-musoru',\n",
              " 'https://www.vedomosti.ru/ecology/regulation/articles/2022/09/07/939765-blagotvoritelnie-produkti-osvobodyat-ot-nds']"
            ]
          },
          "metadata": {},
          "execution_count": 11
        }
      ]
    },
    {
      "cell_type": "markdown",
      "source": [
        "## Функция для сбора информации"
      ],
      "metadata": {
        "id": "dh3XPz4VRmp0"
      }
    },
    {
      "cell_type": "code",
      "source": [
        "for item in full_articles:\n",
        "  try:\n",
        "    page_a = rq.get(item)\n",
        "    print(page_a, item)\n",
        "  except:\n",
        "    print(\"С новостью\", item, \"не получилось\")"
      ],
      "metadata": {
        "colab": {
          "base_uri": "https://localhost:8080/"
        },
        "id": "qYciB21BtMpe",
        "outputId": "c6088e8b-b2c0-4f7a-9cea-a5b983376733"
      },
      "execution_count": 12,
      "outputs": [
        {
          "output_type": "stream",
          "name": "stdout",
          "text": [
            "<Response [200]> https://www.vedomosti.ru/ecology/protection_nature/articles/2022/09/08/939891-vesnoi-i-letom-2022-g-lesa-v-rossii-goreli-menshe-chem-v-srednem-v-xxi-veke\n",
            "<Response [200]> https://www.vedomosti.ru/ecology/protection_nature/articles/2022/09/08/939876-monitoring-baikala-eto-ne-akademicheskaya-nauka-a-uchast-santehnika\n",
            "<Response [200]> https://www.vedomosti.ru/ecology/regulation/articles/2022/09/08/939853-medothodi-klassa-a-mogut-priravnyat-k-ofisnomu-i-bitovomu-musoru\n",
            "<Response [200]> https://www.vedomosti.ru/ecology/regulation/articles/2022/09/07/939765-blagotvoritelnie-produkti-osvobodyat-ot-nds\n"
          ]
        }
      ]
    },
    {
      "cell_type": "code",
      "source": [
        "import re "
      ],
      "metadata": {
        "id": "dHPbr8-Xs_I1"
      },
      "execution_count": 13,
      "outputs": []
    },
    {
      "cell_type": "code",
      "source": [
        "# Тестирование для функции (поиск в теге script)\n",
        "test_url = 'https://www.vedomosti.ru/ecology/climate/articles/2022/12/12/954783-metan-nedolgovechnii-no-kovarnii'\n",
        "all_data = []\n",
        "\n",
        "page_a = rq.get(test_url)\n",
        "soup_a = BeautifulSoup(page_a.text, features = \"html.parser\")\n",
        "all_data.append(soup_a.find_all('script'))\n",
        "all_data_text = \" \".join(map(str, all_data))\n",
        "for x in all_data:\n",
        "  title = \"\".join(re.findall(r'headline\": \"(.+)\"', all_data_text))\n",
        "  author_given = \"\".join(re.findall(r'givenName\": \"(.+)\"', all_data_text))\n",
        "  author_family = \"\".join(re.findall(r'familyName\": \"(.+)\"', all_data_text))\n",
        "  author = \" \".join([author_given, author_family])\n",
        "  date = \"\".join(re.findall(r'datePublished\": \"(.+)T', all_data_text))\n",
        "  text_list = soup_a.find_all('p', {'class' : 'box-paragraph__text'})\n",
        "  for i in text_list:\n",
        "    text = ' '.join(re.findall(r'>(.*?)<', str(i)))\n",
        "print(test_url, title, author, date, text, sep = '\\n')"
      ],
      "metadata": {
        "colab": {
          "base_uri": "https://localhost:8080/"
        },
        "id": "xlaTkLFwzkr6",
        "outputId": "28f6e6fe-c8ec-45b0-8eb4-45d070ac5165"
      },
      "execution_count": 37,
      "outputs": [
        {
          "output_type": "stream",
          "name": "stdout",
          "text": [
            "https://www.vedomosti.ru/ecology/climate/articles/2022/12/12/954783-metan-nedolgovechnii-no-kovarnii\n",
            "Метан – недолговечный, но коварный\n",
            "Марина Кочетова\n",
            "2022-12-12\n",
            "Последние несколько лет стали самыми теплыми на Земле за всю историю наблюдений. Деятельность «Роснефти» по мониторингу и снижению выбросов метана полностью соответствует цели устойчивого развития ООН № 13 «Принятие срочных мер по борьбе с изменением климата и его последствиями». Ее достижение возможно только при высоком уровне сотрудничества правительств, общественных организаций и бизнеса.-\n"
          ]
        }
      ]
    },
    {
      "cell_type": "code",
      "source": [
        "# Тестирование для функции (поиск по отдельным тегам) >> ПРОБНОЕ (выбран способ выше)\n",
        "test_url = 'https://www.vedomosti.ru/ecology/climate/articles/2022/12/12/954783-metan-nedolgovechnii-no-kovarnii'\n",
        "\n",
        "page_a = rq.get(test_url)\n",
        "soup_a = BeautifulSoup(page_a.text, features = \"html.parser\")\n",
        "title = soup_a.find_all('meta', {'property' : 'og:title'})[0].attrs['content']\n",
        "# author = soup_a.find_all('script', {'author' : 'name'})[0].attrs['type']\n",
        "author = soup_a.find_all('script')\n",
        "print(author)\n",
        "date = re.findall(r'articles/(.{10})', test_url)\n",
        "text_list = soup_a.find_all('p', {'class' : 'box-paragraph__text'})\n",
        "print(test_url, title, date, text_list, sep = \"\\n\")"
      ],
      "metadata": {
        "id": "TWBkdJTO1Bbq"
      },
      "execution_count": null,
      "outputs": []
    },
    {
      "cell_type": "code",
      "source": [
        "# ФУНКЦИЯ\n",
        "def ParseArticles(your_url):\n",
        "  all_data = []\n",
        "  page_a = rq.get(your_url)\n",
        "  soup_a = BeautifulSoup(page_a.text, features = \"html.parser\")\n",
        "  all_data.append(soup_a.find_all('script'))\n",
        "  all_data_text = \" \".join(map(str, all_data))\n",
        "  for x in all_data:\n",
        "    title = \"\".join(re.findall(r'headline\": \"(.+)\"', all_data_text))\n",
        "    author_given = \"\".join(re.findall(r'givenName\": \"(.+)\"', all_data_text))\n",
        "    author_family = \"\".join(re.findall(r'familyName\": \"(.+)\"', all_data_text))\n",
        "    author = \" \".join([author_given, author_family])\n",
        "    if author == \" \":\n",
        "      author = \"Не указан\"\n",
        "    date = \"\".join(re.findall(r'datePublished\": \"(.+)T', all_data_text))\n",
        "    text_list = soup_a.find_all('p', {'class' : 'box-paragraph__text'})\n",
        "    for i in text_list:\n",
        "      text = ' '.join(re.findall(r'>(.*?)<', str(i)))\n",
        "  return your_url, title, author, date, text"
      ],
      "metadata": {
        "id": "2q6Q8FG5Cl-h"
      },
      "execution_count": 45,
      "outputs": []
    },
    {
      "cell_type": "markdown",
      "source": [
        "## Парсинг"
      ],
      "metadata": {
        "id": "7id5h0cfhl1n"
      }
    },
    {
      "cell_type": "code",
      "source": [
        "eco_news = []\n",
        "\n",
        "for address in full_articles:\n",
        "  try:\n",
        "    response = rq.get(address)\n",
        "    print(item, \"=\", response)\n",
        "    piece_of_news = ParseArticles(address)\n",
        "    eco_news.append(piece_of_news)\n",
        "  except:\n",
        "    print('С новостью', item, 'не получилось')\n",
        "\n",
        "eco_news"
      ],
      "metadata": {
        "id": "FEALr4s_RWRJ",
        "colab": {
          "base_uri": "https://localhost:8080/"
        },
        "outputId": "36080758-491b-4905-9882-97f793e8a6d3"
      },
      "execution_count": 46,
      "outputs": [
        {
          "output_type": "stream",
          "name": "stdout",
          "text": [
            "https://www.vedomosti.ru/ecology/regulation/articles/2022/09/07/939765-blagotvoritelnie-produkti-osvobodyat-ot-nds = <Response [200]>\n",
            "https://www.vedomosti.ru/ecology/regulation/articles/2022/09/07/939765-blagotvoritelnie-produkti-osvobodyat-ot-nds = <Response [200]>\n",
            "https://www.vedomosti.ru/ecology/regulation/articles/2022/09/07/939765-blagotvoritelnie-produkti-osvobodyat-ot-nds = <Response [200]>\n",
            "https://www.vedomosti.ru/ecology/regulation/articles/2022/09/07/939765-blagotvoritelnie-produkti-osvobodyat-ot-nds = <Response [200]>\n"
          ]
        },
        {
          "output_type": "execute_result",
          "data": {
            "text/plain": [
              "[('https://www.vedomosti.ru/ecology/protection_nature/articles/2022/09/08/939891-vesnoi-i-letom-2022-g-lesa-v-rossii-goreli-menshe-chem-v-srednem-v-xxi-veke',\n",
              "  'Весной и летом 2022 г. леса в России горели меньше, чем в среднем в XXI веке',\n",
              "  'Анна Героева',\n",
              "  '2022-09-08',\n",
              "  'В этом году приняты новые Правила тушения лесных пожаров, позволяющие сократить зоны контроля в российских лесах примерно на 50%. Однако мера будет бесполезной без дополнительного финансирования, считают эксперты. «Регионам необходимы дополнительные субвенции на охрану лесов, ведь губернаторы не могут повлиять на сокращение площадей пожаров у себя в регионах из-за недостатка финансирования пожаротушения. В итоге пожары тушат в заповедниках, населенных пунктах, но не в лесах, расположенных в труднодоступных частях страны», — резюмировал Куксин.'),\n",
              " ('https://www.vedomosti.ru/ecology/protection_nature/articles/2022/09/08/939876-monitoring-baikala-eto-ne-akademicheskaya-nauka-a-uchast-santehnika',\n",
              "  '«Мониторинг Байкала — это не академическая наука, а участь сантехника»',\n",
              "  'Не указан',\n",
              "  '2022-09-08',\n",
              "  'Резкое падение численности этих ракообразных нельзя недооценивать, поскольку они являются важным, а иногда и основным источником пищи для рыб. Значит, на рачков влияет не вылов, а какие-то другие факторы, возможно токсичные вещества в воде. Этой задачей уже второй год у нас занимаются молекулярные генетики из МФТИ. Надо выяснить ситуацию.'),\n",
              " ('https://www.vedomosti.ru/ecology/regulation/articles/2022/09/08/939853-medothodi-klassa-a-mogut-priravnyat-k-ofisnomu-i-bitovomu-musoru',\n",
              "  'Медотходы класса А могут приравнять к офисному и бытовому мусору',\n",
              "  'Маргарита Парфененкова',\n",
              "  '2022-09-08',\n",
              "  'Фрумкин надеется, что новый законопроект все-таки примут. «Хотя на практике он сразу ничего не поменяет, но при его наличии можно будет сделать следующие шаги в отношении не только медицинских, но и других видов отходов, организовать их контроль и учет, как это сделано сейчас с ТКО», — считает он.'),\n",
              " ('https://www.vedomosti.ru/ecology/regulation/articles/2022/09/07/939765-blagotvoritelnie-produkti-osvobodyat-ot-nds',\n",
              "  'Благотворительные продукты освободят от НДС',\n",
              "  'Марина Кочетова',\n",
              "  '2022-09-08',\n",
              "  'В более чем 40 странах мира, включая страны Европы, США, Канаду, Великобританию приняты законы о фудшеринге, и там не существует налога при передаче продуктов питания на благотворительность, рассказал Метелев: «Более того, магазины площадью более 400 кв. м штрафуют, если они выбрасывают продукты питания. Весь мир уже давно эту проблему решает, и нам тоже нужно это сделать».')]"
            ]
          },
          "metadata": {},
          "execution_count": 46
        }
      ]
    },
    {
      "cell_type": "markdown",
      "source": [
        "## Запись в датафрейм и создание корпуса"
      ],
      "metadata": {
        "id": "uVxeRqaKhsyN"
      }
    },
    {
      "cell_type": "code",
      "source": [
        "import pandas as pd"
      ],
      "metadata": {
        "id": "2VZfJaTGhJdU"
      },
      "execution_count": 43,
      "outputs": []
    },
    {
      "cell_type": "code",
      "source": [
        "df = pd.DataFrame(eco_news, columns = ['Адрес страницы', 'Заголовок статьи', 'Дата публикации', 'Автор', 'Текст статьи'])\n",
        "df.head()"
      ],
      "metadata": {
        "id": "4n4rmmgTglr_",
        "colab": {
          "base_uri": "https://localhost:8080/",
          "height": 358
        },
        "outputId": "b372cc0b-914d-4195-b01b-c922834d3f31"
      },
      "execution_count": 47,
      "outputs": [
        {
          "output_type": "execute_result",
          "data": {
            "text/plain": [
              "                                      Адрес страницы  \\\n",
              "0  https://www.vedomosti.ru/ecology/protection_na...   \n",
              "1  https://www.vedomosti.ru/ecology/protection_na...   \n",
              "2  https://www.vedomosti.ru/ecology/regulation/ar...   \n",
              "3  https://www.vedomosti.ru/ecology/regulation/ar...   \n",
              "\n",
              "                                    Заголовок статьи         Дата публикации  \\\n",
              "0  Весной и летом 2022 г. леса в России горели ме...            Анна Героева   \n",
              "1  «Мониторинг Байкала — это не академическая нау...               Не указан   \n",
              "2  Медотходы класса А могут приравнять к офисному...  Маргарита Парфененкова   \n",
              "3        Благотворительные продукты освободят от НДС         Марина Кочетова   \n",
              "\n",
              "        Автор                                       Текст статьи  \n",
              "0  2022-09-08  В этом году приняты новые Правила тушения лесн...  \n",
              "1  2022-09-08  Резкое падение численности этих ракообразных н...  \n",
              "2  2022-09-08  Фрумкин надеется, что новый законопроект все-т...  \n",
              "3  2022-09-08  В более чем 40 странах мира, включая страны Ев...  "
            ],
            "text/html": [
              "\n",
              "  <div id=\"df-e8ded9d2-71eb-4b5a-b117-d7d938304606\">\n",
              "    <div class=\"colab-df-container\">\n",
              "      <div>\n",
              "<style scoped>\n",
              "    .dataframe tbody tr th:only-of-type {\n",
              "        vertical-align: middle;\n",
              "    }\n",
              "\n",
              "    .dataframe tbody tr th {\n",
              "        vertical-align: top;\n",
              "    }\n",
              "\n",
              "    .dataframe thead th {\n",
              "        text-align: right;\n",
              "    }\n",
              "</style>\n",
              "<table border=\"1\" class=\"dataframe\">\n",
              "  <thead>\n",
              "    <tr style=\"text-align: right;\">\n",
              "      <th></th>\n",
              "      <th>Адрес страницы</th>\n",
              "      <th>Заголовок статьи</th>\n",
              "      <th>Дата публикации</th>\n",
              "      <th>Автор</th>\n",
              "      <th>Текст статьи</th>\n",
              "    </tr>\n",
              "  </thead>\n",
              "  <tbody>\n",
              "    <tr>\n",
              "      <th>0</th>\n",
              "      <td>https://www.vedomosti.ru/ecology/protection_na...</td>\n",
              "      <td>Весной и летом 2022 г. леса в России горели ме...</td>\n",
              "      <td>Анна Героева</td>\n",
              "      <td>2022-09-08</td>\n",
              "      <td>В этом году приняты новые Правила тушения лесн...</td>\n",
              "    </tr>\n",
              "    <tr>\n",
              "      <th>1</th>\n",
              "      <td>https://www.vedomosti.ru/ecology/protection_na...</td>\n",
              "      <td>«Мониторинг Байкала — это не академическая нау...</td>\n",
              "      <td>Не указан</td>\n",
              "      <td>2022-09-08</td>\n",
              "      <td>Резкое падение численности этих ракообразных н...</td>\n",
              "    </tr>\n",
              "    <tr>\n",
              "      <th>2</th>\n",
              "      <td>https://www.vedomosti.ru/ecology/regulation/ar...</td>\n",
              "      <td>Медотходы класса А могут приравнять к офисному...</td>\n",
              "      <td>Маргарита Парфененкова</td>\n",
              "      <td>2022-09-08</td>\n",
              "      <td>Фрумкин надеется, что новый законопроект все-т...</td>\n",
              "    </tr>\n",
              "    <tr>\n",
              "      <th>3</th>\n",
              "      <td>https://www.vedomosti.ru/ecology/regulation/ar...</td>\n",
              "      <td>Благотворительные продукты освободят от НДС</td>\n",
              "      <td>Марина Кочетова</td>\n",
              "      <td>2022-09-08</td>\n",
              "      <td>В более чем 40 странах мира, включая страны Ев...</td>\n",
              "    </tr>\n",
              "  </tbody>\n",
              "</table>\n",
              "</div>\n",
              "      <button class=\"colab-df-convert\" onclick=\"convertToInteractive('df-e8ded9d2-71eb-4b5a-b117-d7d938304606')\"\n",
              "              title=\"Convert this dataframe to an interactive table.\"\n",
              "              style=\"display:none;\">\n",
              "        \n",
              "  <svg xmlns=\"http://www.w3.org/2000/svg\" height=\"24px\"viewBox=\"0 0 24 24\"\n",
              "       width=\"24px\">\n",
              "    <path d=\"M0 0h24v24H0V0z\" fill=\"none\"/>\n",
              "    <path d=\"M18.56 5.44l.94 2.06.94-2.06 2.06-.94-2.06-.94-.94-2.06-.94 2.06-2.06.94zm-11 1L8.5 8.5l.94-2.06 2.06-.94-2.06-.94L8.5 2.5l-.94 2.06-2.06.94zm10 10l.94 2.06.94-2.06 2.06-.94-2.06-.94-.94-2.06-.94 2.06-2.06.94z\"/><path d=\"M17.41 7.96l-1.37-1.37c-.4-.4-.92-.59-1.43-.59-.52 0-1.04.2-1.43.59L10.3 9.45l-7.72 7.72c-.78.78-.78 2.05 0 2.83L4 21.41c.39.39.9.59 1.41.59.51 0 1.02-.2 1.41-.59l7.78-7.78 2.81-2.81c.8-.78.8-2.07 0-2.86zM5.41 20L4 18.59l7.72-7.72 1.47 1.35L5.41 20z\"/>\n",
              "  </svg>\n",
              "      </button>\n",
              "      \n",
              "  <style>\n",
              "    .colab-df-container {\n",
              "      display:flex;\n",
              "      flex-wrap:wrap;\n",
              "      gap: 12px;\n",
              "    }\n",
              "\n",
              "    .colab-df-convert {\n",
              "      background-color: #E8F0FE;\n",
              "      border: none;\n",
              "      border-radius: 50%;\n",
              "      cursor: pointer;\n",
              "      display: none;\n",
              "      fill: #1967D2;\n",
              "      height: 32px;\n",
              "      padding: 0 0 0 0;\n",
              "      width: 32px;\n",
              "    }\n",
              "\n",
              "    .colab-df-convert:hover {\n",
              "      background-color: #E2EBFA;\n",
              "      box-shadow: 0px 1px 2px rgba(60, 64, 67, 0.3), 0px 1px 3px 1px rgba(60, 64, 67, 0.15);\n",
              "      fill: #174EA6;\n",
              "    }\n",
              "\n",
              "    [theme=dark] .colab-df-convert {\n",
              "      background-color: #3B4455;\n",
              "      fill: #D2E3FC;\n",
              "    }\n",
              "\n",
              "    [theme=dark] .colab-df-convert:hover {\n",
              "      background-color: #434B5C;\n",
              "      box-shadow: 0px 1px 3px 1px rgba(0, 0, 0, 0.15);\n",
              "      filter: drop-shadow(0px 1px 2px rgba(0, 0, 0, 0.3));\n",
              "      fill: #FFFFFF;\n",
              "    }\n",
              "  </style>\n",
              "\n",
              "      <script>\n",
              "        const buttonEl =\n",
              "          document.querySelector('#df-e8ded9d2-71eb-4b5a-b117-d7d938304606 button.colab-df-convert');\n",
              "        buttonEl.style.display =\n",
              "          google.colab.kernel.accessAllowed ? 'block' : 'none';\n",
              "\n",
              "        async function convertToInteractive(key) {\n",
              "          const element = document.querySelector('#df-e8ded9d2-71eb-4b5a-b117-d7d938304606');\n",
              "          const dataTable =\n",
              "            await google.colab.kernel.invokeFunction('convertToInteractive',\n",
              "                                                     [key], {});\n",
              "          if (!dataTable) return;\n",
              "\n",
              "          const docLinkHtml = 'Like what you see? Visit the ' +\n",
              "            '<a target=\"_blank\" href=https://colab.research.google.com/notebooks/data_table.ipynb>data table notebook</a>'\n",
              "            + ' to learn more about interactive tables.';\n",
              "          element.innerHTML = '';\n",
              "          dataTable['output_type'] = 'display_data';\n",
              "          await google.colab.output.renderOutput(dataTable, element);\n",
              "          const docLink = document.createElement('div');\n",
              "          docLink.innerHTML = docLinkHtml;\n",
              "          element.appendChild(docLink);\n",
              "        }\n",
              "      </script>\n",
              "    </div>\n",
              "  </div>\n",
              "  "
            ]
          },
          "metadata": {},
          "execution_count": 47
        }
      ]
    },
    {
      "cell_type": "code",
      "source": [
        "df.to_excel('Корпус эко-новостей.xlsx')"
      ],
      "metadata": {
        "id": "8HMuwntAhFNb"
      },
      "execution_count": 48,
      "outputs": []
    }
  ]
}